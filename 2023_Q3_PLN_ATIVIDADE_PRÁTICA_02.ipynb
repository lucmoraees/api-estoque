{
  "nbformat": 4,
  "nbformat_minor": 0,
  "metadata": {
    "colab": {
      "provenance": [],
      "include_colab_link": true
    },
    "kernelspec": {
      "name": "python3",
      "display_name": "Python 3"
    }
  },
  "cells": [
    {
      "cell_type": "markdown",
      "metadata": {
        "id": "view-in-github",
        "colab_type": "text"
      },
      "source": [
        "<a href=\"https://colab.research.google.com/github/lucmoraees/api-estoque/blob/main/2023_Q3_PLN_ATIVIDADE_PRA%CC%81TICA_02.ipynb\" target=\"_parent\"><img src=\"https://colab.research.google.com/assets/colab-badge.svg\" alt=\"Open In Colab\"/></a>"
      ]
    },
    {
      "cell_type": "markdown",
      "metadata": {
        "id": "Y6QILOdpOjwv"
      },
      "source": [
        "# **Processamento de Linguagem Natural [2023.Q3]**\n",
        "Prof. Alexandre Donizeti Alves"
      ]
    },
    {
      "cell_type": "markdown",
      "metadata": {
        "id": "8m67OOx9MX_3"
      },
      "source": [
        "### **ATIVIDADE PRÁTICA 02 [Extração e Pré-processamento de Dados + Expressões Regulares]**\n"
      ]
    },
    {
      "cell_type": "markdown",
      "metadata": {
        "id": "5Gk0nHKabBT-"
      },
      "source": [
        "A **ATIVIDADE PRÁTICA 02** deve ser feita utilizando o **Google Colab** com uma conta\n",
        "sua vinculada ao Gmail. O link do seu notebook, armazenado no Google Drive, além do link de um repositório no GitHub e os principais resultados da atividade, devem ser enviados usando o seguinte formulário:\n",
        "\n",
        "> https://forms.gle/83JggUJ1mhgWviEaA\n",
        "\n",
        "\n",
        "**IMPORTANTE**: A submissão deve ser feita até o dia 16/10 (segunda-feira) APENAS POR UM INTEGRANTE DA EQUIPE, até às 23h59. Por favor, lembre-se de dar permissão de ACESSO IRRESTRITO para o professor da disciplina de PLN."
      ]
    },
    {
      "cell_type": "markdown",
      "metadata": {
        "id": "D7hJlilKM485"
      },
      "source": [
        "### **EQUIPE**\n",
        "\n",
        "---"
      ]
    },
    {
      "cell_type": "markdown",
      "source": [
        "**POR FAVOR, PREENCHER OS INTEGRANDES DA SUA EQUIPE:**\n",
        "\n",
        "\n",
        "**Integrante 01:**\n",
        "\n",
        "`Por favor, informe o seu nome completo e RA:` Felipe Toguchi 11202130303\n",
        "\n",
        "**Integrante 02:**\n",
        "\n",
        "`Por favor, informe o seu nome completo e RA:` Lucas Moraes de Carvalho 11202020345\n",
        "\n",
        "**Integrante 03:**\n",
        "\n",
        "`Por favor, informe o seu nome completo e RA:` Munir Abrão Dib 11202130880"
      ],
      "metadata": {
        "id": "tnIArN0QY-Ek"
      }
    },
    {
      "cell_type": "markdown",
      "source": [
        "### **LIVRO**\n",
        "---"
      ],
      "metadata": {
        "id": "6yExhaebs-nD"
      }
    },
    {
      "cell_type": "markdown",
      "source": [
        "`Processamento de Linguagem Natural - Conceitos, Técnicas e Aplicações em Português.`\n",
        "\n",
        ">\n",
        "\n",
        "Disponível gratuitamente em:\n",
        "  \n",
        "  > https://brasileiraspln.com/livro-pln/1a-edicao/.\n",
        "\n",
        "\n",
        "**POR FAVOR, PREENCHER OS CAPITULOS SELECIONADOS PARA A SUA EQUIPE:**\n",
        "\n",
        "`Primeiro capítulo: ` 01\n",
        "\n",
        "`Segundo capítulo:` 25\n",
        "\n"
      ],
      "metadata": {
        "id": "DjJM_qhEZRy6"
      }
    },
    {
      "cell_type": "markdown",
      "metadata": {
        "id": "EtjgWQRzNphL"
      },
      "source": [
        "### **DESCRIÇÃO**\n",
        "---"
      ]
    },
    {
      "cell_type": "markdown",
      "source": [
        "Implementar um `notebook` no `Google Colab` para identificar ERROS em 2 (DOIS) capítulos do livro **Processamento de Linguagem Natural - Conceitos, Técnicas e Aplicações em Português**.\n",
        "\n",
        "Os capítulos devem ser selecionados na seguinte planilha:\n",
        "\n",
        "https://docs.google.com/spreadsheets/d/1ZutzQ3v1OJgsgzCvCwxXlRIQ3ChXNlHNvB63JQvYsbo/edit?usp=sharing\n",
        "\n",
        ">\n",
        "\n",
        "**IMPORTANTE:** É obrigatório usar o e-mail da UFABC.\n",
        "\n",
        ">\n",
        "\n",
        "\n",
        "**DICA:** Por favor, insira o seu nome ou da sua equipe na ordem definida na planilha. Por exemplo, se a linha correspondente ao o GRUPO 5 já foi preenchida, a próxima equipe (GRUPO 6) deverá ser informada na próxima linha da planilha.\n",
        "\n"
      ],
      "metadata": {
        "id": "fXTwkiiGs2BV"
      }
    },
    {
      "cell_type": "markdown",
      "source": [
        "### **TIPOS DE ERROS**\n",
        "---\n"
      ],
      "metadata": {
        "id": "eD_AJQhrwJQ6"
      }
    },
    {
      "cell_type": "markdown",
      "source": [
        "**IMPORTANTE**: consulta feita no ChatGPT\n",
        ">\n",
        "\n",
        "Um `programa Python` que utilize `expressões regulares` pode ajudar a identificar vários **tipos de erros** comuns em **livros**, especialmente erros de formatação e problemas relacionados à consistência do texto. Aqui estão alguns exemplos de erros comuns que podem ser identificados usando expressões regulares:\n",
        "\n",
        "* Erros de gramática e ortografia: erros de digitação, concordância verbal e nominal, uso incorreto de pontuação e outros erros gramaticais.\n",
        "\n",
        "* Problemas de formatação: você pode usar expressões regulares para encontrar erros de formatação, como espaços em excesso, tabulações inadequadas ou alinhamentos inconsistentes.\n",
        "\n",
        "* Abreviações e acrônimos: você pode usar expressões regulares para encontrar abreviações ou acrônimos que não foram definidos ou explicados anteriormente no texto.\n",
        "\n",
        "* Citações e referências: expressões regulares podem ser úteis para localizar citações ou referências que precisam de formatação especial.\n",
        "\n",
        "* OUTROS TIPOS DE ERROS: não considerem apenas os tipos de erros citados acima.\n",
        "\n",
        "\n",
        "**IMPORTANTE:** Lembre-se de que expressões regulares podem ser poderosas, mas também complexas. Dependendo da complexidade dos erros que você deseja identificar, pode ser necessário ajustar as expressões regulares de acordo com as características específicas do seu texto. Além disso, é importante ter em mente que as expressões regulares podem não ser a melhor ferramenta para todos os tipos de erros em livros, especialmente problemas mais contextuais ou semânticos, que podem exigir abordagens de PLN mais avançadas.\n",
        "\n",
        "\n",
        "\n"
      ],
      "metadata": {
        "id": "gz0DTI0KYmn6"
      }
    },
    {
      "cell_type": "markdown",
      "source": [
        "### **CRITÉRIOS DE AVALIAÇÃO**\n",
        "---\n"
      ],
      "metadata": {
        "id": "gWsBYQNtxmum"
      }
    },
    {
      "cell_type": "markdown",
      "source": [
        "A equipe que **realizar mais testes** e/ou **identificar mais erros** terá o peso diminuido na AVALIAÇÃO (Prova Escrita) em **25%** (caindo de 40 para 30). Os testes e possíveis erros devem ser contabizados de maneira separada.\n",
        "\n",
        ">\n",
        "\n",
        "Além disso, **por se tratar de um livro**, há um teste importante que deve ser feito. Lembre-se que o teste deve ser feito utilizando expressões regulares. A equipe que realizar esse teste, mesmo que o erro não ocorra nos capítulos selecionados, terá o peso diminuido na AVALIAÇÃO (Prova Escrita) em **25%** (caindo de 40 para 30).\n",
        "\n",
        "> A equipe pode considerar outros capítulos do livro para tentar identificar esse tipo de erro.\n",
        "\n",
        "**Se for a mesma equipe, o peso da avaliação será reduzido em 50% (caindo de 40 para 20)**.\n",
        "\n",
        ">\n",
        "\n",
        "**IMPORTANTE**: a diminuição no peso da AVALIAÇÃO será aplicado para todos os membros da equipe. Esse critério será aplicado apenas para uma equipe, considerando como critério de desempate a equipe que entregar primeiro a atividade no formulário.\n",
        "\n",
        "\n",
        "\n"
      ],
      "metadata": {
        "id": "5iHdx4BXYruQ"
      }
    },
    {
      "cell_type": "markdown",
      "source": [
        "### **IMPLEMENTAÇÃO**\n",
        "---"
      ],
      "metadata": {
        "id": "nw09lujGvfjc"
      }
    },
    {
      "cell_type": "code",
      "source": [
        "import re\n",
        "import requests\n",
        "from bs4 import BeautifulSoup\n",
        "\n",
        "def get_text_from_url(url):\n",
        "    response = requests.get(url)\n",
        "    soup = BeautifulSoup(response.text, 'html.parser')\n",
        "    return soup.get_text()\n",
        "\n",
        "def find_typos(text):\n",
        "    typos = re.findall(r'\\bteh\\b', text)\n",
        "    return typos\n",
        "\n",
        "def find_formatting_errors(text):\n",
        "    formatting = re.findall(r' {2,}', text)\n",
        "    return formatting\n",
        "\n",
        "def find_abbreviations(text):\n",
        "    abbreviations = re.findall(r'\\b[A-Z]{2,}\\b', text)\n",
        "    return abbreviations\n",
        "\n",
        "def find_citations(text):\n",
        "    citations = re.findall(r'\\[\\d+\\]', text)\n",
        "    return citations\n",
        "\n",
        "def find_incorrect_capitalization(text):\n",
        "    incorrect_capitalization = re.findall(r'\\b[a-z]+\\b', text)\n",
        "    return incorrect_capitalization\n",
        "\n",
        "def find_missing_punctuation(text):\n",
        "    missing_punctuation = re.findall(r'[a-zA-Z][a-zA-Z ]+a-zA-Z', text)\n",
        "    return missing_punctuation"
      ],
      "metadata": {
        "id": "RyUailD5vi9E"
      },
      "execution_count": null,
      "outputs": []
    },
    {
      "cell_type": "code",
      "source": [
        "def fin_errors_by_chapter(part, cap):\n",
        "  try:\n",
        "    url = f\"https://brasileiraspln.com/livro-pln/1a-edicao/parte{part}/cap{cap}/cap{cap}.html\"\n",
        "    text = get_text_from_url(url)\n",
        "\n",
        "    print(f\"Capítulo {cap}\")\n",
        "\n",
        "    typos = find_typos(text)\n",
        "    print(f\"Erros de gramática e ortografia: {len(typos)}\")\n",
        "\n",
        "    formatting_errors = find_formatting_errors(text)\n",
        "    print(f\"Problemas de formatação: {len(formatting_errors)}\")\n",
        "\n",
        "    abbreviations = find_abbreviations(text)\n",
        "    print(f\"Abreviações e acrônimos: {len(abbreviations)}\")\n",
        "\n",
        "    citations = find_citations(text)\n",
        "    print(f\"Citações e referências: {len(citations)}\")\n",
        "\n",
        "    incorrect_capitalization = find_incorrect_capitalization(text)\n",
        "    print(f\"Capitalização incorreta: {len(incorrect_capitalization)}\")\n",
        "\n",
        "    missing_punctuation = find_missing_punctuation(text)\n",
        "    print(f\"Pontuação faltando: {len(missing_punctuation)}\")\n",
        "\n",
        "    print(\"\")\n",
        "  except Exception as e:\n",
        "    print(f\"Erro ao acessar os erros do capítulo {chapter}\")"
      ],
      "metadata": {
        "id": "6HWeklbFPm8A"
      },
      "execution_count": null,
      "outputs": []
    },
    {
      "cell_type": "code",
      "source": [
        "chapters = [\n",
        "    {\"part\": \"1\", \"cap\": \"1\"},\n",
        "    {\"part\": \"2\", \"cap\": \"2\"},\n",
        "    {\"part\": \"2\", \"cap\": \"3\"},\n",
        "    {\"part\": \"3\", \"cap\": \"4\"},\n",
        "    {\"part\": \"3\", \"cap\": \"5\"},\n",
        "    {\"part\": \"4\", \"cap\": \"6\"},\n",
        "    {\"part\": \"4\", \"cap\": \"6\"},\n",
        "    {\"part\": \"4\", \"cap\": \"7\"},\n",
        "    {\"part\": \"5\", \"cap\": \"8\"},\n",
        "    {\"part\": \"5\", \"cap\": \"9\"},\n",
        "    {\"part\": \"5\", \"cap\": \"10\"},\n",
        "    {\"part\": \"6\", \"cap\": \"11\"},\n",
        "    {\"part\": \"6\", \"cap\": \"12\"},\n",
        "    {\"part\": \"6\", \"cap\": \"13\"},\n",
        "    {\"part\": \"7\", \"cap\": \"14\"},\n",
        "    {\"part\": \"7\", \"cap\": \"15\"},\n",
        "    {\"part\": \"8\", \"cap\": \"16\"},\n",
        "    {\"part\": \"8\", \"cap\": \"17\"},\n",
        "    {\"part\": \"8\", \"cap\": \"18\"},\n",
        "    {\"part\": \"8\", \"cap\": \"19\"},\n",
        "    {\"part\": \"8\", \"cap\": \"20\"},\n",
        "    {\"part\": \"9\", \"cap\": \"21\"},\n",
        "    {\"part\": \"9\", \"cap\": \"22\"},\n",
        "    {\"part\": \"9\", \"cap\": \"23\"},\n",
        "    {\"part\": \"10\", \"cap\": \"24\"},\n",
        "    {\"part\": \"10\", \"cap\": \"25\"}\n",
        "]"
      ],
      "metadata": {
        "id": "Tq6rFPWmDdOr"
      },
      "execution_count": null,
      "outputs": []
    },
    {
      "cell_type": "code",
      "source": [
        "for chapter in chapters:\n",
        "  fin_errors_by_chapter(chapter[\"part\"], chapter[\"cap\"])\n"
      ],
      "metadata": {
        "colab": {
          "base_uri": "https://localhost:8080/"
        },
        "id": "LXkcyTpmEbP0",
        "outputId": "c9851c77-dd82-4c98-b5d8-0ecb72676ddb"
      },
      "execution_count": null,
      "outputs": [
        {
          "output_type": "stream",
          "name": "stdout",
          "text": [
            "Capítulo 1\n",
            "Erros de gramática e ortografia: 0\n",
            "Problemas de formatação: 9\n",
            "Abreviações e acrônimos: 48\n",
            "Citações e referências: 0\n",
            "Capitalização incorreta: 2317\n",
            "Pontuação faltando: 0\n",
            "\n",
            "Capítulo 2\n",
            "Erros de gramática e ortografia: 0\n",
            "Problemas de formatação: 12\n",
            "Abreviações e acrônimos: 145\n",
            "Citações e referências: 0\n",
            "Capitalização incorreta: 12620\n",
            "Pontuação faltando: 0\n",
            "\n",
            "Capítulo 3\n",
            "Erros de gramática e ortografia: 0\n",
            "Problemas de formatação: 11\n",
            "Abreviações e acrônimos: 502\n",
            "Citações e referências: 0\n",
            "Capitalização incorreta: 9227\n",
            "Pontuação faltando: 0\n",
            "\n",
            "Capítulo 4\n",
            "Erros de gramática e ortografia: 0\n",
            "Problemas de formatação: 15\n",
            "Abreviações e acrônimos: 361\n",
            "Citações e referências: 0\n",
            "Capitalização incorreta: 11373\n",
            "Pontuação faltando: 0\n",
            "\n",
            "Capítulo 5\n",
            "Erros de gramática e ortografia: 0\n",
            "Problemas de formatação: 8\n",
            "Abreviações e acrônimos: 17\n",
            "Citações e referências: 0\n",
            "Capitalização incorreta: 695\n",
            "Pontuação faltando: 0\n",
            "\n",
            "Capítulo 6\n",
            "Erros de gramática e ortografia: 0\n",
            "Problemas de formatação: 12\n",
            "Abreviações e acrônimos: 118\n",
            "Citações e referências: 0\n",
            "Capitalização incorreta: 8541\n",
            "Pontuação faltando: 0\n",
            "\n",
            "Capítulo 6\n",
            "Erros de gramática e ortografia: 0\n",
            "Problemas de formatação: 12\n",
            "Abreviações e acrônimos: 118\n",
            "Citações e referências: 0\n",
            "Capitalização incorreta: 8541\n",
            "Pontuação faltando: 0\n",
            "\n",
            "Capítulo 7\n",
            "Erros de gramática e ortografia: 0\n",
            "Problemas de formatação: 8\n",
            "Abreviações e acrônimos: 84\n",
            "Citações e referências: 0\n",
            "Capitalização incorreta: 2778\n",
            "Pontuação faltando: 0\n",
            "\n",
            "Capítulo 8\n",
            "Erros de gramática e ortografia: 0\n",
            "Problemas de formatação: 10\n",
            "Abreviações e acrônimos: 44\n",
            "Citações e referências: 0\n",
            "Capitalização incorreta: 3069\n",
            "Pontuação faltando: 0\n",
            "\n",
            "Capítulo 9\n",
            "Erros de gramática e ortografia: 0\n",
            "Problemas de formatação: 8\n",
            "Abreviações e acrônimos: 321\n",
            "Citações e referências: 0\n",
            "Capitalização incorreta: 6433\n",
            "Pontuação faltando: 0\n",
            "\n",
            "Capítulo 10\n",
            "Erros de gramática e ortografia: 0\n",
            "Problemas de formatação: 37\n",
            "Abreviações e acrônimos: 173\n",
            "Citações e referências: 0\n",
            "Capitalização incorreta: 7932\n",
            "Pontuação faltando: 0\n",
            "\n",
            "Capítulo 11\n",
            "Erros de gramática e ortografia: 0\n",
            "Problemas de formatação: 8\n",
            "Abreviações e acrônimos: 205\n",
            "Citações e referências: 4\n",
            "Capitalização incorreta: 4867\n",
            "Pontuação faltando: 0\n",
            "\n",
            "Capítulo 12\n",
            "Erros de gramática e ortografia: 0\n",
            "Problemas de formatação: 9\n",
            "Abreviações e acrônimos: 172\n",
            "Citações e referências: 0\n",
            "Capitalização incorreta: 6294\n",
            "Pontuação faltando: 0\n",
            "\n",
            "Capítulo 13\n",
            "Erros de gramática e ortografia: 0\n",
            "Problemas de formatação: 8\n",
            "Abreviações e acrônimos: 12\n",
            "Citações e referências: 0\n",
            "Capitalização incorreta: 244\n",
            "Pontuação faltando: 0\n",
            "\n",
            "Capítulo 14\n",
            "Erros de gramática e ortografia: 0\n",
            "Problemas de formatação: 10\n",
            "Abreviações e acrônimos: 191\n",
            "Citações e referências: 38\n",
            "Capitalização incorreta: 13646\n",
            "Pontuação faltando: 0\n",
            "\n",
            "Capítulo 15\n",
            "Erros de gramática e ortografia: 0\n",
            "Problemas de formatação: 51\n",
            "Abreviações e acrônimos: 512\n",
            "Citações e referências: 15\n",
            "Capitalização incorreta: 20532\n",
            "Pontuação faltando: 0\n",
            "\n",
            "Capítulo 16\n",
            "Erros de gramática e ortografia: 0\n",
            "Problemas de formatação: 31\n",
            "Abreviações e acrônimos: 275\n",
            "Citações e referências: 0\n",
            "Capitalização incorreta: 8191\n",
            "Pontuação faltando: 0\n",
            "\n",
            "Capítulo 17\n",
            "Erros de gramática e ortografia: 0\n",
            "Problemas de formatação: 8\n",
            "Abreviações e acrônimos: 530\n",
            "Citações e referências: 0\n",
            "Capitalização incorreta: 7494\n",
            "Pontuação faltando: 0\n",
            "\n",
            "Capítulo 18\n",
            "Erros de gramática e ortografia: 0\n",
            "Problemas de formatação: 8\n",
            "Abreviações e acrônimos: 542\n",
            "Citações e referências: 0\n",
            "Capitalização incorreta: 11695\n",
            "Pontuação faltando: 0\n",
            "\n",
            "Capítulo 19\n",
            "Erros de gramática e ortografia: 0\n",
            "Problemas de formatação: 8\n",
            "Abreviações e acrônimos: 195\n",
            "Citações e referências: 0\n",
            "Capitalização incorreta: 10737\n",
            "Pontuação faltando: 0\n",
            "\n",
            "Capítulo 20\n",
            "Erros de gramática e ortografia: 0\n",
            "Problemas de formatação: 9\n",
            "Abreviações e acrônimos: 92\n",
            "Citações e referências: 0\n",
            "Capitalização incorreta: 7260\n",
            "Pontuação faltando: 0\n",
            "\n",
            "Capítulo 21\n",
            "Erros de gramática e ortografia: 0\n",
            "Problemas de formatação: 8\n",
            "Abreviações e acrônimos: 106\n",
            "Citações e referências: 0\n",
            "Capitalização incorreta: 3051\n",
            "Pontuação faltando: 0\n",
            "\n",
            "Capítulo 22\n",
            "Erros de gramática e ortografia: 0\n",
            "Problemas de formatação: 8\n",
            "Abreviações e acrônimos: 147\n",
            "Citações e referências: 0\n",
            "Capitalização incorreta: 5294\n",
            "Pontuação faltando: 0\n",
            "\n",
            "Capítulo 23\n",
            "Erros de gramática e ortografia: 0\n",
            "Problemas de formatação: 8\n",
            "Abreviações e acrônimos: 342\n",
            "Citações e referências: 0\n",
            "Capitalização incorreta: 5707\n",
            "Pontuação faltando: 0\n",
            "\n",
            "Capítulo 24\n",
            "Erros de gramática e ortografia: 0\n",
            "Problemas de formatação: 8\n",
            "Abreviações e acrônimos: 170\n",
            "Citações e referências: 0\n",
            "Capitalização incorreta: 4244\n",
            "Pontuação faltando: 0\n",
            "\n",
            "Capítulo 25\n",
            "Erros de gramática e ortografia: 0\n",
            "Problemas de formatação: 8\n",
            "Abreviações e acrônimos: 61\n",
            "Citações e referências: 0\n",
            "Capitalização incorreta: 1882\n",
            "Pontuação faltando: 0\n",
            "\n"
          ]
        }
      ]
    }
  ]
}